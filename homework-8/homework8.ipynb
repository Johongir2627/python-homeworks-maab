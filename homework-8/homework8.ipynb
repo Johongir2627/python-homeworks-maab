{
 "cells": [
  {
   "cell_type": "markdown",
   "metadata": {},
   "source": [
    "# Exception Handling Exercises"
   ]
  },
  {
   "cell_type": "code",
   "execution_count": null,
   "metadata": {},
   "outputs": [],
   "source": [
    "# 1. Write a Python program to handle a ZeroDivisionError exception when dividing a number by zero.\n",
    "try:\n",
    "    print(10 / 0)\n",
    "except ZeroDivisionError:\n",
    "    print('Dividing zero gives error')"
   ]
  },
  {
   "cell_type": "code",
   "execution_count": 3,
   "metadata": {},
   "outputs": [
    {
     "name": "stdout",
     "output_type": "stream",
     "text": [
      "Invalid input. Please enter an integer number\n"
     ]
    }
   ],
   "source": [
    "# 2. Write a Python program that prompts the user to input an integer and raises a ValueError exception if the input is not a valid integer.\n",
    "try:\n",
    "    num = int(input('Enter an integer number:'))\n",
    "except ValueError:\n",
    "    print('Invalid input. Please enter an integer number')"
   ]
  },
  {
   "cell_type": "code",
   "execution_count": 4,
   "metadata": {},
   "outputs": [
    {
     "name": "stdout",
     "output_type": "stream",
     "text": [
      "File not found\n"
     ]
    }
   ],
   "source": [
    "# 3. Write a Python program that opens a file and handles a FileNotFoundError exception if the file does not exist.\n",
    "try:\n",
    "    open_file = open('file.txt', 'r')\n",
    "except FileNotFoundError:\n",
    "    print('File not found')"
   ]
  },
  {
   "cell_type": "code",
   "execution_count": 15,
   "metadata": {},
   "outputs": [
    {
     "name": "stdout",
     "output_type": "stream",
     "text": [
      "Invalid inputs. Please enter numerical values\n"
     ]
    }
   ],
   "source": [
    "# 4. Write a Python program that prompts the user to input two numbers and raises a TypeError exception if the inputs are not numerical.\n",
    "try:\n",
    "    num1 = input('Enter first number:')\n",
    "    num2 = input('Enter second number:')\n",
    "    print(num1 / num2)\n",
    "except TypeError:\n",
    "    print('Invalid inputs. Please enter numerical values')"
   ]
  },
  {
   "cell_type": "code",
   "execution_count": 17,
   "metadata": {},
   "outputs": [],
   "source": [
    "# 5. Write a Python program that opens a file and handles a PermissionError exception if there is a permission issue.\n",
    "try:\n",
    "    open_file = open('file.txt', 'r')\n",
    "except PermissionError:\n",
    "    print('Permission denied to open file')"
   ]
  },
  {
   "cell_type": "code",
   "execution_count": 18,
   "metadata": {},
   "outputs": [
    {
     "name": "stdout",
     "output_type": "stream",
     "text": [
      "Index out of range\n"
     ]
    }
   ],
   "source": [
    "# 6. Write a Python program that executes an operation on a list and handles an IndexError exception if the index is out of range.\n",
    "try:\n",
    "    my_list = [1, 2, 3]\n",
    "    print(my_list[3])\n",
    "except IndexError:\n",
    "    print('Index out of range')"
   ]
  },
  {
   "cell_type": "code",
   "execution_count": 22,
   "metadata": {},
   "outputs": [],
   "source": [
    "# 7 Write a Python program that prompts the user to input a number and handles a KeyboardInterrupt exception if the user cancels the input.\n",
    "try:\n",
    "    num = input('Enter a number:')\n",
    "except KeyboardInterrupt:\n",
    "    print('KeyboardInterrupt error occured')"
   ]
  },
  {
   "cell_type": "code",
   "execution_count": 23,
   "metadata": {},
   "outputs": [
    {
     "name": "stdout",
     "output_type": "stream",
     "text": [
      "ArithmeticError occures\n"
     ]
    }
   ],
   "source": [
    "# 8. Write a Python program that executes division and handles an ArithmeticError exception if there is an arithmetic error.\n",
    "try:\n",
    "    a = 10\n",
    "    b = 0\n",
    "    c = 10 / 0\n",
    "    print(c)\n",
    "except ArithmeticError:\n",
    "    print('ArithmeticError occures')\n"
   ]
  },
  {
   "cell_type": "code",
   "execution_count": 26,
   "metadata": {},
   "outputs": [],
   "source": [
    "# 9. Write a Python program that opens a file and handles a UnicodeDecodeError exception if there is an encoding issue.\n",
    "try:\n",
    "\twith open('file.txt', 'r', encoding='utf-8') as file:\n",
    "\t\tcontent = file.read()\n",
    "except UnicodeDecodeError:\n",
    "\tprint('Encoding issue occurred while reading the file')"
   ]
  },
  {
   "cell_type": "code",
   "execution_count": 27,
   "metadata": {},
   "outputs": [
    {
     "name": "stdout",
     "output_type": "stream",
     "text": [
      "AttributeError is occured\n"
     ]
    }
   ],
   "source": [
    "# 10. Write a Python program that executes a list operation and handles an AttributeError exception if the attribute does not exist.\n",
    "try:\n",
    "    l = [1, 2, 3]\n",
    "    l.join()\n",
    "except AttributeError:\n",
    "    print('AttributeError is occured')"
   ]
  },
  {
   "cell_type": "markdown",
   "metadata": {},
   "source": [
    "# File Input/Output Exercises"
   ]
  },
  {
   "cell_type": "code",
   "execution_count": 33,
   "metadata": {},
   "outputs": [
    {
     "name": "stdout",
     "output_type": "stream",
     "text": [
      "Welcome to Uzbbekistan\n",
      "Finally\n"
     ]
    }
   ],
   "source": [
    "# 1. Write a Python program to read an entire text file.\n",
    "with open('file.txt', 'r') as file:\n",
    "    file_read = file.read()\n",
    "print(file_read)"
   ]
  },
  {
   "cell_type": "code",
   "execution_count": 34,
   "metadata": {},
   "outputs": [
    {
     "name": "stdout",
     "output_type": "stream",
     "text": [
      "Welcome to Uzbbekistan\n",
      "\n",
      "Finally\n",
      "\n",
      "\n",
      "\n"
     ]
    }
   ],
   "source": [
    "# 2. Write a Python program to read first n lines of a file.\n",
    "n = int(input('Enter number:'))\n",
    "with open('file.txt', 'r') as file:\n",
    "    for i in range(n):\n",
    "        file_read = file.readline()\n",
    "        print(file_read) "
   ]
  },
  {
   "cell_type": "code",
   "execution_count": 1,
   "metadata": {},
   "outputs": [],
   "source": [
    "# 3. Write a Python program to append text to a file and display the text.\n",
    "with open('file.txt', 'a') as file:\n",
    "    file.write('Hi! Friend')"
   ]
  },
  {
   "cell_type": "code",
   "execution_count": 17,
   "metadata": {},
   "outputs": [
    {
     "name": "stdout",
     "output_type": "stream",
     "text": [
      "Finally\n",
      "Hi! \n",
      "Friend\n",
      "Visca Barca\n",
      "Visca Catalunya\n",
      "\n",
      "\n",
      "\n",
      "\n",
      "\n",
      "\n",
      "\n",
      "\n",
      "\n",
      "\n",
      "\n",
      "\n",
      "\n",
      "\n",
      "\n",
      "\n",
      "\n",
      "\n",
      "\n",
      "\n",
      "\n",
      "\n"
     ]
    }
   ],
   "source": [
    "# 4 Write a Python program to read last n lines of a file.\n",
    "n = int(input(\"Enter a number:\"))\n",
    "with open('file.txt', 'r') as file:\n",
    "    m = len(file.readline())\n",
    "    for i in range(n, m+1):\n",
    "        fileread = file.read()\n",
    "        print(fileread)"
   ]
  },
  {
   "cell_type": "code",
   "execution_count": 16,
   "metadata": {},
   "outputs": [
    {
     "name": "stdout",
     "output_type": "stream",
     "text": [
      "['Finally\\n', 'Hi! \\n', 'Friend\\n', 'Visca Barca\\n', 'Visca Catalunya\\n', '', '', '', '', '', '', '', '', '', '', '', '', '', '', '', '', '', '']\n"
     ]
    }
   ],
   "source": [
    "# 5 Write a Python program to read a file line by line and store it into a list.\n",
    "with open('file.txt', 'r') as file:\n",
    "    my_list = []\n",
    "    for i in range(len(file.readline())):\n",
    "        reading = file.readline()\n",
    "        my_list.append(reading)\n",
    "    \n",
    "print(my_list)"
   ]
  },
  {
   "cell_type": "code",
   "execution_count": 20,
   "metadata": {},
   "outputs": [
    {
     "name": "stdout",
     "output_type": "stream",
     "text": [
      "Welcome to Uzbbekistan\n",
      "Finally\n",
      "Hi! \n",
      "Friend\n",
      "Visca Barca\n",
      "Visca Catalunya\n",
      "\n"
     ]
    }
   ],
   "source": [
    "# 6 Write a Python program to read a file line by line and store it into a variable.\n",
    "with open('file.txt', 'r') as file:\n",
    "    my_string = ''\n",
    "    for line in file:  \n",
    "        my_string += line\n",
    "\n",
    "print(my_string)"
   ]
  },
  {
   "cell_type": "code",
   "execution_count": 40,
   "metadata": {},
   "outputs": [
    {
     "name": "stdout",
     "output_type": "stream",
     "text": [
      "['Welcome to Uzbbekistan' 'Finally' 'Hi!' 'Friend' 'Visca Barca'\n",
      " 'Visca Catalunya']\n"
     ]
    }
   ],
   "source": [
    "# 7 Write a Python program to read a file line by line and store it into an array.\n",
    "import numpy as np\n",
    "\n",
    "with open('file.txt', 'r') as file:\n",
    "    my_array = np.array([])  \n",
    "    for line in file:  \n",
    "        my_array = np.append(my_array, line.strip()) \n",
    "\n",
    "print(my_array)"
   ]
  },
  {
   "cell_type": "code",
   "execution_count": 41,
   "metadata": {},
   "outputs": [
    {
     "name": "stdout",
     "output_type": "stream",
     "text": [
      "The longest word is: Uzbbekistan\n",
      "The length of the longest word is: 11\n"
     ]
    }
   ],
   "source": [
    "# 8 Write a Python program to find the longest words.\n",
    "with open('file.txt', 'r') as file:\n",
    "    my_string = ''\n",
    "    for line in file:  \n",
    "        my_string += line\n",
    "\n",
    "listt = my_string.strip().replace('\\n', ' ').split(' ')\n",
    "longest_word = max(listt, key=len)\n",
    "print(f\"The longest word is: {longest_word}\")\n",
    "print(f\"The length of the longest word is: {len(longest_word)}\")"
   ]
  },
  {
   "cell_type": "code",
   "execution_count": 44,
   "metadata": {},
   "outputs": [
    {
     "name": "stdout",
     "output_type": "stream",
     "text": [
      "6\n"
     ]
    }
   ],
   "source": [
    "# 9 Write a Python program to count the number of lines in a text file.\n",
    "a=0\n",
    "with open('file.txt', 'r') as file:\n",
    "    for i in file:\n",
    "        a+=1\n",
    "\n",
    "print(a)"
   ]
  },
  {
   "cell_type": "code",
   "execution_count": 55,
   "metadata": {},
   "outputs": [
    {
     "name": "stdout",
     "output_type": "stream",
     "text": [
      "['Welcome', 'to', 'Uzbbekistan', 'Finally', 'Hi!', '', 'Friend', 'Visca', 'Barca', 'Visca', 'Catalunya']\n",
      "Welcome: 1\n",
      "to: 1\n",
      "Uzbbekistan: 1\n",
      "Finally: 1\n",
      "Hi!: 1\n",
      ": 1\n",
      "Friend: 1\n",
      "Visca: 2\n",
      "Barca: 1\n",
      "Catalunya: 1\n"
     ]
    }
   ],
   "source": [
    "# 10 Write a Python program to count the frequency of words in a file.\n",
    "with open('file.txt', 'r') as file:\n",
    "    my_string = ''\n",
    "    for line in file:  \n",
    "        my_string += line\n",
    "\n",
    "listt = my_string.strip().replace('\\n', ' ').split(' ')\n",
    "print(listt)\n",
    "\n",
    "word_count = {}\n",
    "for i in listt: \n",
    "    if i in word_count:\n",
    "        word_count[i] +=1\n",
    "    else:\n",
    "        word_count[i] = 1\n",
    "   \n",
    "        \n",
    "for word, count in word_count.items():\n",
    "    print(f\"{word}: {count}\")\n",
    "\n"
   ]
  },
  {
   "cell_type": "code",
   "execution_count": 70,
   "metadata": {},
   "outputs": [
    {
     "name": "stdout",
     "output_type": "stream",
     "text": [
      "The size of the file 'file.txt' is: 77 bytes\n"
     ]
    }
   ],
   "source": [
    "# 11 Write a Python program to get the file size of a plain file.\n",
    "import os\n",
    "\n",
    "file_name = \"file.txt\"\n",
    "\n",
    "if os.path.exists(file_name):\n",
    "    file_size = os.path.getsize(file_name)  \n",
    "    print(f\"The size of the file '{file_name}' is: {file_size} bytes\")\n",
    "else:\n",
    "    print(f\"The file '{file_name}' does not exist.\")"
   ]
  },
  {
   "cell_type": "code",
   "execution_count": 73,
   "metadata": {},
   "outputs": [],
   "source": [
    "# 12 Write a Python program to write a list to a file.\n",
    "my_list = [1, 2, 3]\n",
    "\n",
    "with open('file.txt', 'a') as file:\n",
    "    file.write(', '.join(map(str, my_list)) + '\\n')\n"
   ]
  },
  {
   "cell_type": "code",
   "execution_count": 75,
   "metadata": {},
   "outputs": [
    {
     "name": "stdout",
     "output_type": "stream",
     "text": [
      "8\n"
     ]
    }
   ],
   "source": [
    "# 13 Write a Python program to copy the contents of a file to another file.\n",
    "s = ''\n",
    "with open('file.txt', 'r') as file:\n",
    "    for line in file:\n",
    "        s = ''.join(line)\n",
    "\n",
    "with open('file1.txt', 'w') as file1:\n",
    "    file11 = file1.write(s)\n",
    "print(file11)\n"
   ]
  },
  {
   "cell_type": "code",
   "execution_count": 83,
   "metadata": {},
   "outputs": [],
   "source": [
    "# 14 Write a Python program to combine each line from the first file with the corresponding line in the second file.\n",
    "lines_file1 = []\n",
    "with open('file.txt', 'r') as file:\n",
    "    for line in file:\n",
    "        lines_file1.append(line.strip())\n",
    "\n",
    "lines_file2 = []\n",
    "with open('file1.txt', 'r') as file1:\n",
    "    for line in file1:\n",
    "        lines_file2.append(line.strip()) \n",
    "\n",
    "\n",
    "with open('file2.txt', 'w') as file2:\n",
    "    for line1, line2 in zip(lines_file1, lines_file2):\n",
    "        file2.write(f\"{line1} {line2}\\n\") \n"
   ]
  },
  {
   "cell_type": "code",
   "execution_count": 90,
   "metadata": {},
   "outputs": [
    {
     "name": "stdout",
     "output_type": "stream",
     "text": [
      "Random line: hello\n"
     ]
    }
   ],
   "source": [
    "# 15 Write a Python program to read a random line from a file.\n",
    "import random\n",
    "\n",
    "with open('file.txt', 'r') as file:\n",
    "    lines = file.readlines()  \n",
    "\n",
    "random_index = random.randint(0, len(lines) - 1)\n",
    "\n",
    "random_line = lines[random_index].strip()  \n",
    "\n",
    "print(f\"Random line: {random_line}\")"
   ]
  },
  {
   "cell_type": "code",
   "execution_count": 1,
   "metadata": {},
   "outputs": [
    {
     "name": "stdout",
     "output_type": "stream",
     "text": [
      "Is the file closed? False\n",
      "Is the file closed? True\n"
     ]
    }
   ],
   "source": [
    "# 16. Write a Python program to assess if a file is closed or not.\n",
    "file = open('file.txt', 'r')\n",
    "\n",
    "print(f\"Is the file closed? {file.closed}\")  \n",
    "\n",
    "file.close()\n",
    "\n",
    "print(f\"Is the file closed? {file.closed}\")  "
   ]
  },
  {
   "cell_type": "code",
   "execution_count": 4,
   "metadata": {},
   "outputs": [
    {
     "name": "stdout",
     "output_type": "stream",
     "text": [
      "Original content:\n",
      "1, 2, 3\n",
      "'f', get\n",
      "hello\n",
      "1, 2, 3\n",
      "'f', get\n",
      "hello\n",
      "1, 2, 3\n",
      "'f', get\n",
      "hello\n",
      "1, 2, 3\n",
      "'f', get\n",
      "hello\n",
      "1, 2, 3\n",
      "'f', get\n",
      "hello\n",
      "1, 2, 3\n",
      "'f', get\n",
      "hello\n",
      "1, 2, 3\n",
      "'f', get\n",
      "hello\n",
      "\n",
      "Content without newlines:\n",
      "1, 2, 3'f', gethello1, 2, 3'f', gethello1, 2, 3'f', gethello1, 2, 3'f', gethello1, 2, 3'f', gethello1, 2, 3'f', gethello1, 2, 3'f', gethello\n"
     ]
    }
   ],
   "source": [
    "# 17. Write a Python program to remove newline characters from a file.\n",
    "with open('file.txt', 'r') as file:\n",
    "    reading = file.read()\n",
    "    print(\"Original content:\")\n",
    "    print(reading)\n",
    "\n",
    "clean_text = reading.replace(\"\\n\", \"\")\n",
    "print(\"\\nContent without newlines:\")\n",
    "print(clean_text)\n",
    "\n",
    "with open('file.txt', 'w') as file:\n",
    "    file.write(clean_text)"
   ]
  },
  {
   "cell_type": "code",
   "execution_count": 7,
   "metadata": {},
   "outputs": [
    {
     "name": "stdout",
     "output_type": "stream",
     "text": [
      "22\n"
     ]
    }
   ],
   "source": [
    "# 18. Write a Python program that takes a text file as input and returns the number of words in a given text file.\n",
    "# Note: Some words can be separated by a comma with no space.\n",
    "\n",
    "input_text = input(\"Enter file address:\") #  'file.txt'\n",
    "a = 0\n",
    "with open(input_text, 'r') as file:\n",
    "    for line in file:\n",
    "        lined = line.split(' ')\n",
    "        for i in lined:\n",
    "            lining = i.split(',')\n",
    "            a+=1\n",
    "print(a)"
   ]
  },
  {
   "cell_type": "code",
   "execution_count": 14,
   "metadata": {},
   "outputs": [
    {
     "name": "stdout",
     "output_type": "stream",
     "text": [
      "['1', '', '2', '', \"3'f'\", '', 'gethello1', '', '2', '', \"3'f'\", '', 'gethello1', '', '2', '', \"3'f'\", '', 'gethello1', '', '2', '', \"3'f'\", '', 'gethello1', '', '2', '', \"3'f'\", '', 'gethello1', '', '2', '', \"3'f'\", '', 'gethello1', '', '2', '', \"3'f'\", '', 'gethello', '1', '', '2', '', '3\\n', '455\\n', 'leo']\n"
     ]
    }
   ],
   "source": [
    "# 19 Write a Python program to extract characters from various text files and put them into a list.\n",
    "a = []\n",
    "with open('file.txt', 'r') as file:\n",
    "    for line in file:\n",
    "        lined = line.split(' ')  # Split the line into words by spaces\n",
    "        for i in lined:\n",
    "            lining = i.split(',')  # Further split words by commas\n",
    "            a.extend(lining)  # Add the split parts to the list\n",
    "\n",
    "\n",
    "\n",
    "b = []\n",
    "with open('file1.txt', 'r') as file1:\n",
    "    for line1 in file1:\n",
    "        lined1 = line1.split(' ')  # Split the line into words by spaces\n",
    "        for i in lined1:\n",
    "            lining = i.split(',')  # Further split words by commas\n",
    "            b.extend(lining)  # Add the split parts to the list\n",
    "\n",
    "c = a + b\n",
    "print(c)"
   ]
  },
  {
   "cell_type": "code",
   "execution_count": null,
   "metadata": {},
   "outputs": [],
   "source": [
    "# 20 Write a Python program to generate 26 text files named A.txt, B.txt, and so on up to Z.txt\n",
    "\n",
    "import string\n",
    "\n",
    "for i in string.ascii_letters:\n",
    "    with open(f'{i}.txt', 'w') as file:\n",
    "        file.write('')"
   ]
  },
  {
   "cell_type": "code",
   "execution_count": 20,
   "metadata": {},
   "outputs": [],
   "source": [
    "# 21 Write a Python program to create a file where all letters of the English alphabet are listed \n",
    "# with a specified number of letters on each line.\n",
    "a = 1\n",
    "with open('file3.txt', 'w') as file:\n",
    "    for i in string.ascii_letters:\n",
    "        file.write(f'{i} {a}\\n')\n",
    "        a+=1"
   ]
  }
 ],
 "metadata": {
  "kernelspec": {
   "display_name": "Python 3",
   "language": "python",
   "name": "python3"
  },
  "language_info": {
   "codemirror_mode": {
    "name": "ipython",
    "version": 3
   },
   "file_extension": ".py",
   "mimetype": "text/x-python",
   "name": "python",
   "nbconvert_exporter": "python",
   "pygments_lexer": "ipython3",
   "version": "3.13.2"
  }
 },
 "nbformat": 4,
 "nbformat_minor": 2
}
