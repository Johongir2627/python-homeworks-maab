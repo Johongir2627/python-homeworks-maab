{
 "cells": [
  {
   "cell_type": "code",
   "execution_count": 1,
   "id": "6051d949",
   "metadata": {},
   "outputs": [
    {
     "name": "stdout",
     "output_type": "stream",
     "text": [
      "Addition: 17\n",
      "Subtraction: 1\n",
      "Multiplication: 5\n",
      "Division: 3.0\n"
     ]
    }
   ],
   "source": [
    "# 1  Packages are installed\n",
    "# 2 \n",
    "import math_operations\n",
    "print(f'Addition: {math_operations.add(8, 9)}')\n",
    "print(f'Subtraction: {math_operations.subtract(9, 8)}')\n",
    "print(f'Multiplication: {math_operations.multiply(1, 5)}')\n",
    "print(f'Division: {math_operations.divide(9, 3)}')"
   ]
  },
  {
   "cell_type": "code",
   "execution_count": 2,
   "id": "feb837e0",
   "metadata": {},
   "outputs": [
    {
     "name": "stdout",
     "output_type": "stream",
     "text": [
      "Reversing: sa\n",
      "Counting vowels: 2\n"
     ]
    }
   ],
   "source": [
    "import string_utils\n",
    "print(f'Reversing: {string_utils.reverse_string('as')}')\n",
    "print(f'Counting vowels: {string_utils.count_vowels('hello')}')"
   ]
  },
  {
   "cell_type": "code",
   "execution_count": 5,
   "id": "36ba20fd",
   "metadata": {},
   "outputs": [
    {
     "name": "stdout",
     "output_type": "stream",
     "text": [
      "Area: 78.54\n",
      "Circumference: 31.42\n"
     ]
    }
   ],
   "source": [
    "from geometry.circle import calculate_area, calculate_circumference\n",
    "radius = 5\n",
    "print(f\"Area: {calculate_area(radius):.2f}\")\n",
    "print(f\"Circumference: {calculate_circumference(radius):.2f}\")"
   ]
  },
  {
   "cell_type": "code",
   "execution_count": 6,
   "id": "cb40255c",
   "metadata": {},
   "outputs": [
    {
     "name": "stdout",
     "output_type": "stream",
     "text": [
      "File written successfully.\n",
      "Reading file content:\n",
      "Hello, this is a test file.\n"
     ]
    }
   ],
   "source": [
    "from file_operations.file_reader import read_file\n",
    "from file_operations.file_writer import write_file\n",
    "\n",
    "file_path = \"example.txt\"\n",
    "content = \"Hello, this is a test file.\"\n",
    "\n",
    "write_file(file_path, content)\n",
    "print(\"File written successfully.\")\n",
    "\n",
    "print(\"Reading file content:\")\n",
    "print(read_file(file_path))"
   ]
  },
  {
   "cell_type": "code",
   "execution_count": null,
   "id": "555c0081",
   "metadata": {},
   "outputs": [],
   "source": []
  }
 ],
 "metadata": {
  "kernelspec": {
   "display_name": "Python 3",
   "language": "python",
   "name": "python3"
  },
  "language_info": {
   "codemirror_mode": {
    "name": "ipython",
    "version": 3
   },
   "file_extension": ".py",
   "mimetype": "text/x-python",
   "name": "python",
   "nbconvert_exporter": "python",
   "pygments_lexer": "ipython3",
   "version": "3.13.2"
  }
 },
 "nbformat": 4,
 "nbformat_minor": 5
}
